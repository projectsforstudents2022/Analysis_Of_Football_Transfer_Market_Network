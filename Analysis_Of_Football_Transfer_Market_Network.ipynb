{
  "cells": [
    {
      "cell_type": "markdown",
      "metadata": {
        "id": "view-in-github",
        "colab_type": "text"
      },
      "source": [
        "<a href=\"https://colab.research.google.com/github/projectsforstudents2022/Analysis_Of_Football_Transfer_Market_Network/blob/main/Analysis_Of_Football_Transfer_Market_Network.ipynb\" target=\"_parent\"><img src=\"https://colab.research.google.com/assets/colab-badge.svg\" alt=\"Open In Colab\"/></a>"
      ]
    },
    {
      "cell_type": "code",
      "execution_count": 3,
      "metadata": {
        "id": "kZ4872cRFntc"
      },
      "outputs": [],
      "source": [
        "import pandas as pd\n",
        "import numpy as np\n",
        "from sklearn.linear_model import LogisticRegression"
      ]
    },
    {
      "cell_type": "code",
      "source": [
        "from google.colab import drive\n",
        "drive.mount('/content/drive')"
      ],
      "metadata": {
        "colab": {
          "base_uri": "https://localhost:8080/"
        },
        "id": "woeD4udfFylk",
        "outputId": "4f46eb1b-d769-4a20-ba47-9953c99789ab"
      },
      "execution_count": 4,
      "outputs": [
        {
          "output_type": "stream",
          "name": "stdout",
          "text": [
            "Drive already mounted at /content/drive; to attempt to forcibly remount, call drive.mount(\"/content/drive\", force_remount=True).\n"
          ]
        }
      ]
    },
    {
      "cell_type": "code",
      "execution_count": 5,
      "metadata": {
        "id": "j5iwsjndFnti"
      },
      "outputs": [],
      "source": [
        "dataset = pd.read_csv('/content/drive/MyDrive/Projects/Analysis_Of_Football_Transfer_Market_Network/TopTransfer1.csv')"
      ]
    },
    {
      "cell_type": "code",
      "execution_count": 6,
      "metadata": {
        "scrolled": true,
        "colab": {
          "base_uri": "https://localhost:8080/",
          "height": 423
        },
        "id": "UVv7vvW1Fnti",
        "outputId": "c5c4efd0-dd73-48c3-fbd8-83363112ca47"
      },
      "outputs": [
        {
          "output_type": "execute_result",
          "data": {
            "text/plain": [
              "                   Name            Position  Age       Team_from  \\\n",
              "0             Luís Figo        Right Winger   27    FC Barcelona   \n",
              "1         Hernán Crespo      Centre-Forward   25           Parma   \n",
              "2         Marc Overmars         Left Winger   27         Arsenal   \n",
              "3     Gabriel Batistuta      Centre-Forward   31      Fiorentina   \n",
              "4        Nicolas Anelka      Centre-Forward   21     Real Madrid   \n",
              "...                 ...                 ...  ...             ...   \n",
              "4695      Jasmin Kurtic  Attacking Midfield   29        Atalanta   \n",
              "4696          Tchê Tchê    Central Midfield   25       Palmeiras   \n",
              "4697      Silvan Widmer          Right-Back   25  Udinese Calcio   \n",
              "4698         Yuya Osako      Second Striker   28      1. FC Köln   \n",
              "4699       Kyle Bartley         Centre-Back   27         Swansea   \n",
              "\n",
              "         League_from        Team_to     League_to     Season  Market_value  \\\n",
              "0             LaLiga    Real Madrid        LaLiga  2000-2001      60000000   \n",
              "1            Serie A          Lazio       Serie A  2000-2001      56810000   \n",
              "2     Premier League   FC Barcelona        LaLiga  2000-2001      40000000   \n",
              "3            Serie A        AS Roma       Serie A  2000-2001      36150000   \n",
              "4             LaLiga       Paris SG       Ligue 1  2000-2001      34500000   \n",
              "...              ...            ...           ...        ...           ...   \n",
              "4695         Serie A           SPAL       Serie A  2018-2019       5000000   \n",
              "4696         Série A    Dynamo Kyiv  Premier Liga  2018-2019       3000000   \n",
              "4697         Serie A       FC Basel  Super League  2018-2019       8500000   \n",
              "4698    2.Bundesliga  Werder Bremen  1.Bundesliga  2018-2019       4500000   \n",
              "4699    Championship      West Brom  Championship  2018-2019       3500000   \n",
              "\n",
              "      Transfer_fee  \n",
              "0         60000000  \n",
              "1         56810000  \n",
              "2         40000000  \n",
              "3         36150000  \n",
              "4         34500000  \n",
              "...            ...  \n",
              "4695       4800000  \n",
              "4696       4800000  \n",
              "4697       4500000  \n",
              "4698       4500000  \n",
              "4699       4500000  \n",
              "\n",
              "[4700 rows x 10 columns]"
            ],
            "text/html": [
              "\n",
              "  <div id=\"df-c4cbe9a8-a496-4f4e-b3ab-3a12bd93ddaf\">\n",
              "    <div class=\"colab-df-container\">\n",
              "      <div>\n",
              "<style scoped>\n",
              "    .dataframe tbody tr th:only-of-type {\n",
              "        vertical-align: middle;\n",
              "    }\n",
              "\n",
              "    .dataframe tbody tr th {\n",
              "        vertical-align: top;\n",
              "    }\n",
              "\n",
              "    .dataframe thead th {\n",
              "        text-align: right;\n",
              "    }\n",
              "</style>\n",
              "<table border=\"1\" class=\"dataframe\">\n",
              "  <thead>\n",
              "    <tr style=\"text-align: right;\">\n",
              "      <th></th>\n",
              "      <th>Name</th>\n",
              "      <th>Position</th>\n",
              "      <th>Age</th>\n",
              "      <th>Team_from</th>\n",
              "      <th>League_from</th>\n",
              "      <th>Team_to</th>\n",
              "      <th>League_to</th>\n",
              "      <th>Season</th>\n",
              "      <th>Market_value</th>\n",
              "      <th>Transfer_fee</th>\n",
              "    </tr>\n",
              "  </thead>\n",
              "  <tbody>\n",
              "    <tr>\n",
              "      <th>0</th>\n",
              "      <td>Luís Figo</td>\n",
              "      <td>Right Winger</td>\n",
              "      <td>27</td>\n",
              "      <td>FC Barcelona</td>\n",
              "      <td>LaLiga</td>\n",
              "      <td>Real Madrid</td>\n",
              "      <td>LaLiga</td>\n",
              "      <td>2000-2001</td>\n",
              "      <td>60000000</td>\n",
              "      <td>60000000</td>\n",
              "    </tr>\n",
              "    <tr>\n",
              "      <th>1</th>\n",
              "      <td>Hernán Crespo</td>\n",
              "      <td>Centre-Forward</td>\n",
              "      <td>25</td>\n",
              "      <td>Parma</td>\n",
              "      <td>Serie A</td>\n",
              "      <td>Lazio</td>\n",
              "      <td>Serie A</td>\n",
              "      <td>2000-2001</td>\n",
              "      <td>56810000</td>\n",
              "      <td>56810000</td>\n",
              "    </tr>\n",
              "    <tr>\n",
              "      <th>2</th>\n",
              "      <td>Marc Overmars</td>\n",
              "      <td>Left Winger</td>\n",
              "      <td>27</td>\n",
              "      <td>Arsenal</td>\n",
              "      <td>Premier League</td>\n",
              "      <td>FC Barcelona</td>\n",
              "      <td>LaLiga</td>\n",
              "      <td>2000-2001</td>\n",
              "      <td>40000000</td>\n",
              "      <td>40000000</td>\n",
              "    </tr>\n",
              "    <tr>\n",
              "      <th>3</th>\n",
              "      <td>Gabriel Batistuta</td>\n",
              "      <td>Centre-Forward</td>\n",
              "      <td>31</td>\n",
              "      <td>Fiorentina</td>\n",
              "      <td>Serie A</td>\n",
              "      <td>AS Roma</td>\n",
              "      <td>Serie A</td>\n",
              "      <td>2000-2001</td>\n",
              "      <td>36150000</td>\n",
              "      <td>36150000</td>\n",
              "    </tr>\n",
              "    <tr>\n",
              "      <th>4</th>\n",
              "      <td>Nicolas Anelka</td>\n",
              "      <td>Centre-Forward</td>\n",
              "      <td>21</td>\n",
              "      <td>Real Madrid</td>\n",
              "      <td>LaLiga</td>\n",
              "      <td>Paris SG</td>\n",
              "      <td>Ligue 1</td>\n",
              "      <td>2000-2001</td>\n",
              "      <td>34500000</td>\n",
              "      <td>34500000</td>\n",
              "    </tr>\n",
              "    <tr>\n",
              "      <th>...</th>\n",
              "      <td>...</td>\n",
              "      <td>...</td>\n",
              "      <td>...</td>\n",
              "      <td>...</td>\n",
              "      <td>...</td>\n",
              "      <td>...</td>\n",
              "      <td>...</td>\n",
              "      <td>...</td>\n",
              "      <td>...</td>\n",
              "      <td>...</td>\n",
              "    </tr>\n",
              "    <tr>\n",
              "      <th>4695</th>\n",
              "      <td>Jasmin Kurtic</td>\n",
              "      <td>Attacking Midfield</td>\n",
              "      <td>29</td>\n",
              "      <td>Atalanta</td>\n",
              "      <td>Serie A</td>\n",
              "      <td>SPAL</td>\n",
              "      <td>Serie A</td>\n",
              "      <td>2018-2019</td>\n",
              "      <td>5000000</td>\n",
              "      <td>4800000</td>\n",
              "    </tr>\n",
              "    <tr>\n",
              "      <th>4696</th>\n",
              "      <td>Tchê Tchê</td>\n",
              "      <td>Central Midfield</td>\n",
              "      <td>25</td>\n",
              "      <td>Palmeiras</td>\n",
              "      <td>Série A</td>\n",
              "      <td>Dynamo Kyiv</td>\n",
              "      <td>Premier Liga</td>\n",
              "      <td>2018-2019</td>\n",
              "      <td>3000000</td>\n",
              "      <td>4800000</td>\n",
              "    </tr>\n",
              "    <tr>\n",
              "      <th>4697</th>\n",
              "      <td>Silvan Widmer</td>\n",
              "      <td>Right-Back</td>\n",
              "      <td>25</td>\n",
              "      <td>Udinese Calcio</td>\n",
              "      <td>Serie A</td>\n",
              "      <td>FC Basel</td>\n",
              "      <td>Super League</td>\n",
              "      <td>2018-2019</td>\n",
              "      <td>8500000</td>\n",
              "      <td>4500000</td>\n",
              "    </tr>\n",
              "    <tr>\n",
              "      <th>4698</th>\n",
              "      <td>Yuya Osako</td>\n",
              "      <td>Second Striker</td>\n",
              "      <td>28</td>\n",
              "      <td>1. FC Köln</td>\n",
              "      <td>2.Bundesliga</td>\n",
              "      <td>Werder Bremen</td>\n",
              "      <td>1.Bundesliga</td>\n",
              "      <td>2018-2019</td>\n",
              "      <td>4500000</td>\n",
              "      <td>4500000</td>\n",
              "    </tr>\n",
              "    <tr>\n",
              "      <th>4699</th>\n",
              "      <td>Kyle Bartley</td>\n",
              "      <td>Centre-Back</td>\n",
              "      <td>27</td>\n",
              "      <td>Swansea</td>\n",
              "      <td>Championship</td>\n",
              "      <td>West Brom</td>\n",
              "      <td>Championship</td>\n",
              "      <td>2018-2019</td>\n",
              "      <td>3500000</td>\n",
              "      <td>4500000</td>\n",
              "    </tr>\n",
              "  </tbody>\n",
              "</table>\n",
              "<p>4700 rows × 10 columns</p>\n",
              "</div>\n",
              "      <button class=\"colab-df-convert\" onclick=\"convertToInteractive('df-c4cbe9a8-a496-4f4e-b3ab-3a12bd93ddaf')\"\n",
              "              title=\"Convert this dataframe to an interactive table.\"\n",
              "              style=\"display:none;\">\n",
              "        \n",
              "  <svg xmlns=\"http://www.w3.org/2000/svg\" height=\"24px\"viewBox=\"0 0 24 24\"\n",
              "       width=\"24px\">\n",
              "    <path d=\"M0 0h24v24H0V0z\" fill=\"none\"/>\n",
              "    <path d=\"M18.56 5.44l.94 2.06.94-2.06 2.06-.94-2.06-.94-.94-2.06-.94 2.06-2.06.94zm-11 1L8.5 8.5l.94-2.06 2.06-.94-2.06-.94L8.5 2.5l-.94 2.06-2.06.94zm10 10l.94 2.06.94-2.06 2.06-.94-2.06-.94-.94-2.06-.94 2.06-2.06.94z\"/><path d=\"M17.41 7.96l-1.37-1.37c-.4-.4-.92-.59-1.43-.59-.52 0-1.04.2-1.43.59L10.3 9.45l-7.72 7.72c-.78.78-.78 2.05 0 2.83L4 21.41c.39.39.9.59 1.41.59.51 0 1.02-.2 1.41-.59l7.78-7.78 2.81-2.81c.8-.78.8-2.07 0-2.86zM5.41 20L4 18.59l7.72-7.72 1.47 1.35L5.41 20z\"/>\n",
              "  </svg>\n",
              "      </button>\n",
              "      \n",
              "  <style>\n",
              "    .colab-df-container {\n",
              "      display:flex;\n",
              "      flex-wrap:wrap;\n",
              "      gap: 12px;\n",
              "    }\n",
              "\n",
              "    .colab-df-convert {\n",
              "      background-color: #E8F0FE;\n",
              "      border: none;\n",
              "      border-radius: 50%;\n",
              "      cursor: pointer;\n",
              "      display: none;\n",
              "      fill: #1967D2;\n",
              "      height: 32px;\n",
              "      padding: 0 0 0 0;\n",
              "      width: 32px;\n",
              "    }\n",
              "\n",
              "    .colab-df-convert:hover {\n",
              "      background-color: #E2EBFA;\n",
              "      box-shadow: 0px 1px 2px rgba(60, 64, 67, 0.3), 0px 1px 3px 1px rgba(60, 64, 67, 0.15);\n",
              "      fill: #174EA6;\n",
              "    }\n",
              "\n",
              "    [theme=dark] .colab-df-convert {\n",
              "      background-color: #3B4455;\n",
              "      fill: #D2E3FC;\n",
              "    }\n",
              "\n",
              "    [theme=dark] .colab-df-convert:hover {\n",
              "      background-color: #434B5C;\n",
              "      box-shadow: 0px 1px 3px 1px rgba(0, 0, 0, 0.15);\n",
              "      filter: drop-shadow(0px 1px 2px rgba(0, 0, 0, 0.3));\n",
              "      fill: #FFFFFF;\n",
              "    }\n",
              "  </style>\n",
              "\n",
              "      <script>\n",
              "        const buttonEl =\n",
              "          document.querySelector('#df-c4cbe9a8-a496-4f4e-b3ab-3a12bd93ddaf button.colab-df-convert');\n",
              "        buttonEl.style.display =\n",
              "          google.colab.kernel.accessAllowed ? 'block' : 'none';\n",
              "\n",
              "        async function convertToInteractive(key) {\n",
              "          const element = document.querySelector('#df-c4cbe9a8-a496-4f4e-b3ab-3a12bd93ddaf');\n",
              "          const dataTable =\n",
              "            await google.colab.kernel.invokeFunction('convertToInteractive',\n",
              "                                                     [key], {});\n",
              "          if (!dataTable) return;\n",
              "\n",
              "          const docLinkHtml = 'Like what you see? Visit the ' +\n",
              "            '<a target=\"_blank\" href=https://colab.research.google.com/notebooks/data_table.ipynb>data table notebook</a>'\n",
              "            + ' to learn more about interactive tables.';\n",
              "          element.innerHTML = '';\n",
              "          dataTable['output_type'] = 'display_data';\n",
              "          await google.colab.output.renderOutput(dataTable, element);\n",
              "          const docLink = document.createElement('div');\n",
              "          docLink.innerHTML = docLinkHtml;\n",
              "          element.appendChild(docLink);\n",
              "        }\n",
              "      </script>\n",
              "    </div>\n",
              "  </div>\n",
              "  "
            ]
          },
          "metadata": {},
          "execution_count": 6
        }
      ],
      "source": [
        "dataset"
      ]
    },
    {
      "cell_type": "code",
      "execution_count": 7,
      "metadata": {
        "scrolled": true,
        "colab": {
          "base_uri": "https://localhost:8080/"
        },
        "id": "_SK1NV3sFntk",
        "outputId": "37b2c2a6-b9ec-41d0-9033-c336b1ae920e"
      },
      "outputs": [
        {
          "output_type": "execute_result",
          "data": {
            "text/plain": [
              "Premier League    608\n",
              "Serie A           602\n",
              "Ligue 1           428\n",
              "LaLiga            418\n",
              "1.Bundesliga      265\n",
              "Série A           199\n",
              "Championship      197\n",
              "Eredivisie        190\n",
              "Liga NOS          178\n",
              "Premier Liga      169\n",
              "Name: League_from, dtype: int64"
            ]
          },
          "metadata": {},
          "execution_count": 7
        }
      ],
      "source": [
        "dataset['League_from'].value_counts().head(10)"
      ]
    },
    {
      "cell_type": "code",
      "execution_count": 8,
      "metadata": {
        "colab": {
          "base_uri": "https://localhost:8080/"
        },
        "id": "QlZ9iXuNFntk",
        "outputId": "a8e09325-4973-4381-e83e-f008cbb73942"
      },
      "outputs": [
        {
          "output_type": "execute_result",
          "data": {
            "text/plain": [
              "Premier League    1256\n",
              "Serie A            739\n",
              "LaLiga             525\n",
              "1.Bundesliga       422\n",
              "Ligue 1            397\n",
              "Premier Liga       328\n",
              "Süper Lig          143\n",
              "Liga NOS           127\n",
              "Super League       122\n",
              "Eredivisie         108\n",
              "Name: League_to, dtype: int64"
            ]
          },
          "metadata": {},
          "execution_count": 8
        }
      ],
      "source": [
        "dataset['League_to'].value_counts().head(10)"
      ]
    },
    {
      "cell_type": "code",
      "execution_count": 9,
      "metadata": {
        "colab": {
          "base_uri": "https://localhost:8080/"
        },
        "id": "extRTFj3Fntp",
        "outputId": "677220a4-f32f-468f-8669-a167d9e6f1bd"
      },
      "outputs": [
        {
          "output_type": "execute_result",
          "data": {
            "text/plain": [
              "1530"
            ]
          },
          "metadata": {},
          "execution_count": 9
        }
      ],
      "source": [
        "domestik = dataset[dataset['League_from'] == dataset['League_to']]\n",
        "len(domestik)"
      ]
    },
    {
      "cell_type": "code",
      "execution_count": 10,
      "metadata": {
        "colab": {
          "base_uri": "https://localhost:8080/"
        },
        "id": "PGmdwCaXFntp",
        "outputId": "2d4c0b32-d928-40f2-ee9a-debd21a2fd07"
      },
      "outputs": [
        {
          "output_type": "execute_result",
          "data": {
            "text/plain": [
              "3170"
            ]
          },
          "metadata": {},
          "execution_count": 10
        }
      ],
      "source": [
        "lintas = dataset[dataset['League_from'] != dataset['League_to']]\n",
        "len(lintas)"
      ]
    },
    {
      "cell_type": "code",
      "execution_count": 11,
      "metadata": {
        "colab": {
          "base_uri": "https://localhost:8080/"
        },
        "id": "RYSuqe02Fntq",
        "outputId": "66edd877-d68a-4c8c-e7df-2f570180ab60"
      },
      "outputs": [
        {
          "output_type": "execute_result",
          "data": {
            "text/plain": [
              "Premier League    374\n",
              "Serie A           359\n",
              "Ligue 1           159\n",
              "LaLiga            147\n",
              "1.Bundesliga      136\n",
              "Name: League_from, dtype: int64"
            ]
          },
          "metadata": {},
          "execution_count": 11
        }
      ],
      "source": [
        "domestik['League_from'].value_counts().head()"
      ]
    },
    {
      "cell_type": "code",
      "execution_count": 12,
      "metadata": {
        "colab": {
          "base_uri": "https://localhost:8080/"
        },
        "id": "96OUyfrpFntq",
        "outputId": "fb8a6a50-8829-44b5-bd0a-f3d356d4a845"
      },
      "outputs": [
        {
          "output_type": "execute_result",
          "data": {
            "text/plain": [
              "Spurs        38\n",
              "Inter        36\n",
              "Genoa        33\n",
              "Liverpool    32\n",
              "Parma        32\n",
              "Name: Team_from, dtype: int64"
            ]
          },
          "metadata": {},
          "execution_count": 12
        }
      ],
      "source": [
        "domestik['Team_from'].value_counts().head()"
      ]
    },
    {
      "cell_type": "code",
      "execution_count": 13,
      "metadata": {
        "colab": {
          "base_uri": "https://localhost:8080/"
        },
        "id": "M2lezZNQFntr",
        "outputId": "c7529e81-c025-492c-a9a9-7913989645ef"
      },
      "outputs": [
        {
          "output_type": "execute_result",
          "data": {
            "text/plain": [
              "Juventus    53\n",
              "Inter       45\n",
              "AS Roma     31\n",
              "AC Milan    31\n",
              "Man City    29\n",
              "Name: Team_to, dtype: int64"
            ]
          },
          "metadata": {},
          "execution_count": 13
        }
      ],
      "source": [
        "domestik['Team_to'].value_counts().head()"
      ]
    },
    {
      "cell_type": "code",
      "execution_count": 14,
      "metadata": {
        "colab": {
          "base_uri": "https://localhost:8080/"
        },
        "id": "yKMH69AxFntr",
        "outputId": "3603bbff-7fd4-4662-bf1a-aaac13532842"
      },
      "outputs": [
        {
          "output_type": "execute_result",
          "data": {
            "text/plain": [
              "LaLiga            271\n",
              "Ligue 1           269\n",
              "Serie A           243\n",
              "Premier League    234\n",
              "Série A           190\n",
              "Name: League_from, dtype: int64"
            ]
          },
          "metadata": {},
          "execution_count": 14
        }
      ],
      "source": [
        "lintas['League_from'].value_counts().head()"
      ]
    },
    {
      "cell_type": "code",
      "execution_count": 15,
      "metadata": {
        "colab": {
          "base_uri": "https://localhost:8080/"
        },
        "id": "Ti1aPOX3Fntr",
        "outputId": "497a2aca-7298-4198-e2b7-c8fcedbf1d6a"
      },
      "outputs": [
        {
          "output_type": "execute_result",
          "data": {
            "text/plain": [
              "FC Porto           56\n",
              "Benfica            52\n",
              "Atlético Madrid    45\n",
              "Real Madrid        41\n",
              "River Plate        39\n",
              "Name: Team_from, dtype: int64"
            ]
          },
          "metadata": {},
          "execution_count": 15
        }
      ],
      "source": [
        "lintas['Team_from'].value_counts().head()"
      ]
    },
    {
      "cell_type": "code",
      "execution_count": 16,
      "metadata": {
        "colab": {
          "base_uri": "https://localhost:8080/"
        },
        "id": "1EaMEjA6Fnts",
        "outputId": "58f33de5-00c4-4b2e-c542-6b971a4e0399"
      },
      "outputs": [
        {
          "output_type": "execute_result",
          "data": {
            "text/plain": [
              "Premier League    882\n",
              "Serie A           380\n",
              "LaLiga            378\n",
              "1.Bundesliga      286\n",
              "Premier Liga      252\n",
              "Name: League_to, dtype: int64"
            ]
          },
          "metadata": {},
          "execution_count": 16
        }
      ],
      "source": [
        "lintas['League_to'].value_counts().head()"
      ]
    },
    {
      "cell_type": "code",
      "execution_count": 17,
      "metadata": {
        "colab": {
          "base_uri": "https://localhost:8080/"
        },
        "id": "jXceZUxrFnts",
        "outputId": "511bbc05-0501-4852-b58c-08cf87034d46"
      },
      "outputs": [
        {
          "output_type": "execute_result",
          "data": {
            "text/plain": [
              "Chelsea      75\n",
              "Spurs        68\n",
              "Man City     65\n",
              "Liverpool    60\n",
              "Arsenal      54\n",
              "Name: Team_to, dtype: int64"
            ]
          },
          "metadata": {},
          "execution_count": 17
        }
      ],
      "source": [
        "lintas['Team_to'].value_counts().head()"
      ]
    },
    {
      "cell_type": "code",
      "execution_count": 18,
      "metadata": {
        "colab": {
          "base_uri": "https://localhost:8080/"
        },
        "id": "77Oq4cqUFntt",
        "outputId": "0ef57747-2ba0-4744-8016-eb88a0f67852"
      },
      "outputs": [
        {
          "output_type": "stream",
          "name": "stdout",
          "text": [
            "Market val rata-rata domestik = 8061960.784313725\n",
            "Market val rata-rata lintas = \t7912924.29022082\n"
          ]
        }
      ],
      "source": [
        "print('Market val rata-rata domestik = {}\\nMarket val rata-rata lintas = \\t{}'.format((domestik['Market_value'].mean()), ((lintas['Market_value'].mean())))) "
      ]
    },
    {
      "cell_type": "code",
      "execution_count": 19,
      "metadata": {
        "colab": {
          "base_uri": "https://localhost:8080/"
        },
        "id": "JEzF9zU6Fntt",
        "outputId": "5b1e8550-c616-43b4-fef7-042e47519c4e"
      },
      "outputs": [
        {
          "output_type": "stream",
          "name": "stdout",
          "text": [
            "Transfer Fee rata-rata domestik = 9549379.08496732\n",
            "Transfer Fee rata-rata lintas =   9398455.835962145\n"
          ]
        }
      ],
      "source": [
        "print('Transfer Fee rata-rata domestik = {}\\nTransfer Fee rata-rata lintas =   {}'.format((domestik['Transfer_fee'].mean()), ((lintas['Transfer_fee'].mean())))) "
      ]
    },
    {
      "cell_type": "code",
      "execution_count": 20,
      "metadata": {
        "colab": {
          "base_uri": "https://localhost:8080/"
        },
        "id": "oCdeK4DhFntt",
        "outputId": "2985d8cd-7c97-40e5-d0d3-280e9c171ebf"
      },
      "outputs": [
        {
          "output_type": "stream",
          "name": "stdout",
          "text": [
            "Market Val total domestik = 12334800000\n",
            "Market Val total lintas =   25083970000\n"
          ]
        }
      ],
      "source": [
        "print('Market Val total domestik = {}\\nMarket Val total lintas =   {}'.format((domestik['Market_value'].sum()), (lintas['Market_value'].sum())))"
      ]
    },
    {
      "cell_type": "code",
      "execution_count": 21,
      "metadata": {
        "colab": {
          "base_uri": "https://localhost:8080/"
        },
        "id": "j_rxpfdwFntu",
        "outputId": "a7f43514-310e-423a-81e6-52baf327b040"
      },
      "outputs": [
        {
          "output_type": "stream",
          "name": "stdout",
          "text": [
            "Transfer Fee total domestik = 14610550000\n",
            "Transfer Fee total lintas =   29793105000\n"
          ]
        }
      ],
      "source": [
        "print('Transfer Fee total domestik = {}\\nTransfer Fee total lintas =   {}'.format((domestik['Transfer_fee'].sum()), (lintas['Transfer_fee'].sum())))"
      ]
    },
    {
      "cell_type": "code",
      "execution_count": 22,
      "metadata": {
        "colab": {
          "base_uri": "https://localhost:8080/"
        },
        "id": "l_synJ-4Fntu",
        "outputId": "4aba6fa9-501d-41d0-eddb-99a3f9d4c635"
      },
      "outputs": [
        {
          "output_type": "execute_result",
          "data": {
            "text/plain": [
              "2011-2012    96\n",
              "2009-2010    92\n",
              "2013-2014    92\n",
              "2008-2009    89\n",
              "2002-2003    88\n",
              "Name: Season, dtype: int64"
            ]
          },
          "metadata": {},
          "execution_count": 22
        }
      ],
      "source": [
        "domestik['Season'].value_counts().head()"
      ]
    },
    {
      "cell_type": "code",
      "execution_count": 23,
      "metadata": {
        "colab": {
          "base_uri": "https://localhost:8080/"
        },
        "id": "XXVuAPUuFntu",
        "outputId": "1e7fd6b2-77b9-4503-8036-d72096f64cb1"
      },
      "outputs": [
        {
          "output_type": "execute_result",
          "data": {
            "text/plain": [
              "2004-2005    179\n",
              "2000-2001    178\n",
              "2014-2015    176\n",
              "2003-2004    172\n",
              "2007-2008    171\n",
              "Name: Season, dtype: int64"
            ]
          },
          "metadata": {},
          "execution_count": 23
        }
      ],
      "source": [
        "lintas['Season'].value_counts().head()"
      ]
    },
    {
      "cell_type": "code",
      "execution_count": 24,
      "metadata": {
        "id": "CLQxQnzfFntv"
      },
      "outputs": [],
      "source": [
        "positioning = dataset['Position']\n",
        "post = positioning.replace(('Centre-Forward', 'Second Striker', 'Right Winger', 'Left Winger', 'Forward', 'Right Midfield', 'Attacking Midfield', 'Left Midfield', 'Central Midfield', 'Defensive Midfield', 'Midfielder', 'Right-Back', 'Centre-Back', 'Left-Back', 'Sweeper', 'Defender', 'Goalkeeper'), ('FW','FW','FW','FW','FW','MD','MD','MD','MD','MD','MD','DF','DF','DF','DF','DF','GK'))\n",
        "dataset['Role'] = post"
      ]
    },
    {
      "cell_type": "code",
      "execution_count": 25,
      "metadata": {
        "colab": {
          "base_uri": "https://localhost:8080/"
        },
        "id": "113TMWILFntw",
        "outputId": "37a91dcb-264c-4a51-b15f-beb054e28d56"
      },
      "outputs": [
        {
          "output_type": "stream",
          "name": "stdout",
          "text": [
            "Footballers average age who were overprice = \n",
            "24    270\n",
            "23    265\n",
            "25    255\n",
            "22    243\n",
            "21    188\n",
            "Name: Age, dtype: int64\n",
            "\n",
            "Amounts of Role in dataset = \n",
            "FW    1923\n",
            "MD    1475\n",
            "DF    1122\n",
            "GK     180\n",
            "Name: Role, dtype: int64\n",
            "\n",
            "Amounts of Role who were overpriced = \n",
            "FW    950\n",
            "MD    626\n",
            "DF    525\n",
            "GK     76\n",
            "Name: Role, dtype: int64\n",
            "\n",
            "Seasons = \n",
            "2016-2017    208\n",
            "2017-2018    196\n",
            "2015-2016    191\n",
            "2009-2010    169\n",
            "2014-2015    169\n",
            "Name: Season, dtype: int64\n"
          ]
        }
      ],
      "source": [
        "param = ['Age', 'Role', 'Season']\n",
        "a = dataset[dataset['Transfer_fee'] > dataset['Market_value']][param]\n",
        "b = a['Role'].value_counts()\n",
        "c = dataset['Role'].value_counts()\n",
        "d = a['Age'].value_counts().head()\n",
        "s = a['Season'].value_counts().head()\n",
        "print('Footballers average age who were overprice = \\n{}\\n\\nAmounts of Role in dataset = \\n{}\\n\\nAmounts of Role who were overpriced = \\n{}\\n\\nSeasons = \\n{}'.format(d,c,b,s))"
      ]
    },
    {
      "cell_type": "code",
      "execution_count": 26,
      "metadata": {
        "colab": {
          "base_uri": "https://localhost:8080/"
        },
        "id": "Cc_zDCzLFntx",
        "outputId": "fab0c507-cc06-4311-8fff-8eeeb9510e32"
      },
      "outputs": [
        {
          "output_type": "stream",
          "name": "stdout",
          "text": [
            "Average transfer fee of attackers = \n",
            "10355990.639625585\n",
            "\n",
            "Average transfer fee of midfielders = \n",
            "9389606.779661017\n",
            "\n",
            "Average transfer fee of defenders = \n",
            "8259656.862745098\n",
            "\n",
            "Average transfer fee of goalkeepers = \n",
            "7622666.666666667\n",
            "\n",
            "\n"
          ]
        }
      ],
      "source": [
        "fw = dataset[dataset['Role'] == 'FW']['Transfer_fee'].mean()\n",
        "md = dataset[dataset['Role'] == 'MD']['Transfer_fee'].mean()\n",
        "df = dataset[dataset['Role'] == 'DF']['Transfer_fee'].mean()\n",
        "gk = dataset[dataset['Role'] == 'GK']['Transfer_fee'].mean()\n",
        "print('Average transfer fee of attackers = \\n{}\\n\\nAverage transfer fee of midfielders = \\n{}\\n\\nAverage transfer fee of defenders = \\n{}\\n\\nAverage transfer fee of goalkeepers = \\n{}\\n\\n'.format(fw,md,df,gk))"
      ]
    },
    {
      "cell_type": "markdown",
      "metadata": {
        "id": "zI15ETPdFntx"
      },
      "source": [
        "# Feature Engineering"
      ]
    },
    {
      "cell_type": "code",
      "execution_count": 27,
      "metadata": {
        "id": "kvQ6i6LKFntx"
      },
      "outputs": [],
      "source": [
        "vd = dataset['Transfer_fee'] - dataset['Market_value']\n",
        "vd[vd > 0] = 1\n",
        "vd[vd <= 0] = 0\n",
        "dataset['Category'] = vd"
      ]
    },
    {
      "cell_type": "code",
      "execution_count": 28,
      "metadata": {
        "id": "SyCLF6DEFntx"
      },
      "outputs": [],
      "source": [
        "mig = dataset['League_from'] == dataset['League_to']\n",
        "migration = mig.replace((True, False), (1,0))\n",
        "dataset['Migration'] = migration"
      ]
    },
    {
      "cell_type": "code",
      "execution_count": 29,
      "metadata": {
        "id": "8PgmAayQFnty"
      },
      "outputs": [],
      "source": [
        "age_max = dataset['Age'].max()\n",
        "age_min = dataset['Age'].min()\n",
        "age = (dataset['Age'] - age_min) / (age_max - age_min)\n"
      ]
    },
    {
      "cell_type": "code",
      "execution_count": 30,
      "metadata": {
        "id": "-kOD4WOGFnty"
      },
      "outputs": [],
      "source": [
        "musim = dataset['Season']\n",
        "season = musim.replace(('2000-2001', '2001-2002', '2002-2003', '2003-2004', '2004-2005', '2005-2006', '2006-2007', '2007-2008', '2008-2009', '2009-2010', '2010-2011', '2011-2012', '2012-2013', '2013-2014', '2014-2015', '2015-2016', '2016-2017', '2017-2018', '2018-2019'), (1,2,3,4,5,6,7,8,9,10,11,12,13,14,15,16,17,18, 19))\n",
        "season_max = season.max()\n",
        "season_min = season.min()\n",
        "sea = (season - season_min) / (season_max - season_min)"
      ]
    },
    {
      "cell_type": "code",
      "execution_count": 31,
      "metadata": {
        "id": "2dGTReUZFnty"
      },
      "outputs": [],
      "source": [
        "roles = dataset['Role']\n",
        "role = roles.replace(('FW', 'MD', 'DF', 'GK'), (4,3,2,1))\n",
        "role_max = role.max()\n",
        "role_min = role.min()\n",
        "Role = (role - role_min) / (role_max - role_min)"
      ]
    },
    {
      "cell_type": "code",
      "execution_count": 32,
      "metadata": {
        "colab": {
          "base_uri": "https://localhost:8080/",
          "height": 423
        },
        "id": "mFQgUEX1Fnty",
        "outputId": "fb740eb3-79b4-4c51-a822-03856e01feb3"
      },
      "outputs": [
        {
          "output_type": "execute_result",
          "data": {
            "text/plain": [
              "           Age  Season      Role  Migration  Category\n",
              "0     0.771429     0.0  1.000000          1         0\n",
              "1     0.714286     0.0  1.000000          1         0\n",
              "2     0.771429     0.0  1.000000          0         0\n",
              "3     0.885714     0.0  1.000000          1         0\n",
              "4     0.600000     0.0  1.000000          0         0\n",
              "...        ...     ...       ...        ...       ...\n",
              "4695  0.828571     1.0  0.666667          1         0\n",
              "4696  0.714286     1.0  0.666667          0         1\n",
              "4697  0.714286     1.0  0.333333          0         0\n",
              "4698  0.800000     1.0  1.000000          0         0\n",
              "4699  0.771429     1.0  0.333333          1         1\n",
              "\n",
              "[4700 rows x 5 columns]"
            ],
            "text/html": [
              "\n",
              "  <div id=\"df-362fa171-c3c5-4449-9f46-7d6105cbb627\">\n",
              "    <div class=\"colab-df-container\">\n",
              "      <div>\n",
              "<style scoped>\n",
              "    .dataframe tbody tr th:only-of-type {\n",
              "        vertical-align: middle;\n",
              "    }\n",
              "\n",
              "    .dataframe tbody tr th {\n",
              "        vertical-align: top;\n",
              "    }\n",
              "\n",
              "    .dataframe thead th {\n",
              "        text-align: right;\n",
              "    }\n",
              "</style>\n",
              "<table border=\"1\" class=\"dataframe\">\n",
              "  <thead>\n",
              "    <tr style=\"text-align: right;\">\n",
              "      <th></th>\n",
              "      <th>Age</th>\n",
              "      <th>Season</th>\n",
              "      <th>Role</th>\n",
              "      <th>Migration</th>\n",
              "      <th>Category</th>\n",
              "    </tr>\n",
              "  </thead>\n",
              "  <tbody>\n",
              "    <tr>\n",
              "      <th>0</th>\n",
              "      <td>0.771429</td>\n",
              "      <td>0.0</td>\n",
              "      <td>1.000000</td>\n",
              "      <td>1</td>\n",
              "      <td>0</td>\n",
              "    </tr>\n",
              "    <tr>\n",
              "      <th>1</th>\n",
              "      <td>0.714286</td>\n",
              "      <td>0.0</td>\n",
              "      <td>1.000000</td>\n",
              "      <td>1</td>\n",
              "      <td>0</td>\n",
              "    </tr>\n",
              "    <tr>\n",
              "      <th>2</th>\n",
              "      <td>0.771429</td>\n",
              "      <td>0.0</td>\n",
              "      <td>1.000000</td>\n",
              "      <td>0</td>\n",
              "      <td>0</td>\n",
              "    </tr>\n",
              "    <tr>\n",
              "      <th>3</th>\n",
              "      <td>0.885714</td>\n",
              "      <td>0.0</td>\n",
              "      <td>1.000000</td>\n",
              "      <td>1</td>\n",
              "      <td>0</td>\n",
              "    </tr>\n",
              "    <tr>\n",
              "      <th>4</th>\n",
              "      <td>0.600000</td>\n",
              "      <td>0.0</td>\n",
              "      <td>1.000000</td>\n",
              "      <td>0</td>\n",
              "      <td>0</td>\n",
              "    </tr>\n",
              "    <tr>\n",
              "      <th>...</th>\n",
              "      <td>...</td>\n",
              "      <td>...</td>\n",
              "      <td>...</td>\n",
              "      <td>...</td>\n",
              "      <td>...</td>\n",
              "    </tr>\n",
              "    <tr>\n",
              "      <th>4695</th>\n",
              "      <td>0.828571</td>\n",
              "      <td>1.0</td>\n",
              "      <td>0.666667</td>\n",
              "      <td>1</td>\n",
              "      <td>0</td>\n",
              "    </tr>\n",
              "    <tr>\n",
              "      <th>4696</th>\n",
              "      <td>0.714286</td>\n",
              "      <td>1.0</td>\n",
              "      <td>0.666667</td>\n",
              "      <td>0</td>\n",
              "      <td>1</td>\n",
              "    </tr>\n",
              "    <tr>\n",
              "      <th>4697</th>\n",
              "      <td>0.714286</td>\n",
              "      <td>1.0</td>\n",
              "      <td>0.333333</td>\n",
              "      <td>0</td>\n",
              "      <td>0</td>\n",
              "    </tr>\n",
              "    <tr>\n",
              "      <th>4698</th>\n",
              "      <td>0.800000</td>\n",
              "      <td>1.0</td>\n",
              "      <td>1.000000</td>\n",
              "      <td>0</td>\n",
              "      <td>0</td>\n",
              "    </tr>\n",
              "    <tr>\n",
              "      <th>4699</th>\n",
              "      <td>0.771429</td>\n",
              "      <td>1.0</td>\n",
              "      <td>0.333333</td>\n",
              "      <td>1</td>\n",
              "      <td>1</td>\n",
              "    </tr>\n",
              "  </tbody>\n",
              "</table>\n",
              "<p>4700 rows × 5 columns</p>\n",
              "</div>\n",
              "      <button class=\"colab-df-convert\" onclick=\"convertToInteractive('df-362fa171-c3c5-4449-9f46-7d6105cbb627')\"\n",
              "              title=\"Convert this dataframe to an interactive table.\"\n",
              "              style=\"display:none;\">\n",
              "        \n",
              "  <svg xmlns=\"http://www.w3.org/2000/svg\" height=\"24px\"viewBox=\"0 0 24 24\"\n",
              "       width=\"24px\">\n",
              "    <path d=\"M0 0h24v24H0V0z\" fill=\"none\"/>\n",
              "    <path d=\"M18.56 5.44l.94 2.06.94-2.06 2.06-.94-2.06-.94-.94-2.06-.94 2.06-2.06.94zm-11 1L8.5 8.5l.94-2.06 2.06-.94-2.06-.94L8.5 2.5l-.94 2.06-2.06.94zm10 10l.94 2.06.94-2.06 2.06-.94-2.06-.94-.94-2.06-.94 2.06-2.06.94z\"/><path d=\"M17.41 7.96l-1.37-1.37c-.4-.4-.92-.59-1.43-.59-.52 0-1.04.2-1.43.59L10.3 9.45l-7.72 7.72c-.78.78-.78 2.05 0 2.83L4 21.41c.39.39.9.59 1.41.59.51 0 1.02-.2 1.41-.59l7.78-7.78 2.81-2.81c.8-.78.8-2.07 0-2.86zM5.41 20L4 18.59l7.72-7.72 1.47 1.35L5.41 20z\"/>\n",
              "  </svg>\n",
              "      </button>\n",
              "      \n",
              "  <style>\n",
              "    .colab-df-container {\n",
              "      display:flex;\n",
              "      flex-wrap:wrap;\n",
              "      gap: 12px;\n",
              "    }\n",
              "\n",
              "    .colab-df-convert {\n",
              "      background-color: #E8F0FE;\n",
              "      border: none;\n",
              "      border-radius: 50%;\n",
              "      cursor: pointer;\n",
              "      display: none;\n",
              "      fill: #1967D2;\n",
              "      height: 32px;\n",
              "      padding: 0 0 0 0;\n",
              "      width: 32px;\n",
              "    }\n",
              "\n",
              "    .colab-df-convert:hover {\n",
              "      background-color: #E2EBFA;\n",
              "      box-shadow: 0px 1px 2px rgba(60, 64, 67, 0.3), 0px 1px 3px 1px rgba(60, 64, 67, 0.15);\n",
              "      fill: #174EA6;\n",
              "    }\n",
              "\n",
              "    [theme=dark] .colab-df-convert {\n",
              "      background-color: #3B4455;\n",
              "      fill: #D2E3FC;\n",
              "    }\n",
              "\n",
              "    [theme=dark] .colab-df-convert:hover {\n",
              "      background-color: #434B5C;\n",
              "      box-shadow: 0px 1px 3px 1px rgba(0, 0, 0, 0.15);\n",
              "      filter: drop-shadow(0px 1px 2px rgba(0, 0, 0, 0.3));\n",
              "      fill: #FFFFFF;\n",
              "    }\n",
              "  </style>\n",
              "\n",
              "      <script>\n",
              "        const buttonEl =\n",
              "          document.querySelector('#df-362fa171-c3c5-4449-9f46-7d6105cbb627 button.colab-df-convert');\n",
              "        buttonEl.style.display =\n",
              "          google.colab.kernel.accessAllowed ? 'block' : 'none';\n",
              "\n",
              "        async function convertToInteractive(key) {\n",
              "          const element = document.querySelector('#df-362fa171-c3c5-4449-9f46-7d6105cbb627');\n",
              "          const dataTable =\n",
              "            await google.colab.kernel.invokeFunction('convertToInteractive',\n",
              "                                                     [key], {});\n",
              "          if (!dataTable) return;\n",
              "\n",
              "          const docLinkHtml = 'Like what you see? Visit the ' +\n",
              "            '<a target=\"_blank\" href=https://colab.research.google.com/notebooks/data_table.ipynb>data table notebook</a>'\n",
              "            + ' to learn more about interactive tables.';\n",
              "          element.innerHTML = '';\n",
              "          dataTable['output_type'] = 'display_data';\n",
              "          await google.colab.output.renderOutput(dataTable, element);\n",
              "          const docLink = document.createElement('div');\n",
              "          docLink.innerHTML = docLinkHtml;\n",
              "          element.appendChild(docLink);\n",
              "        }\n",
              "      </script>\n",
              "    </div>\n",
              "  </div>\n",
              "  "
            ]
          },
          "metadata": {},
          "execution_count": 32
        }
      ],
      "source": [
        "Role = pd.Series(Role)\n",
        "Age = pd.Series(age)\n",
        "Season = pd.Series(sea)\n",
        "Value_difference = pd.Series(vd)\n",
        "Migration = pd.Series(migration)\n",
        "dt = pd.DataFrame({'Role': Role, 'Age': Age,'Season': Season,'Category': Value_difference, 'Migration': Migration})\n",
        "dataset2 = dt[['Age', 'Season','Role','Migration','Category']]\n",
        "dataset2"
      ]
    },
    {
      "cell_type": "code",
      "execution_count": 33,
      "metadata": {
        "colab": {
          "base_uri": "https://localhost:8080/",
          "height": 423
        },
        "id": "J9jdVxsiFntz",
        "outputId": "d9c371ed-194b-4048-b7ac-6638d90c3282"
      },
      "outputs": [
        {
          "output_type": "execute_result",
          "data": {
            "text/plain": [
              "           Age    Season      Role  Migration  Category\n",
              "1000  0.657143  0.222222  0.666667          0         0\n",
              "1001  0.514286  0.222222  1.000000          1         1\n",
              "1002  0.685714  0.222222  0.666667          0         0\n",
              "1003  0.628571  0.222222  0.000000          0         0\n",
              "1004  0.771429  0.222222  0.333333          0         1\n",
              "...        ...       ...       ...        ...       ...\n",
              "4695  0.828571  1.000000  0.666667          1         0\n",
              "4696  0.714286  1.000000  0.666667          0         1\n",
              "4697  0.714286  1.000000  0.333333          0         0\n",
              "4698  0.800000  1.000000  1.000000          0         0\n",
              "4699  0.771429  1.000000  0.333333          1         1\n",
              "\n",
              "[3700 rows x 5 columns]"
            ],
            "text/html": [
              "\n",
              "  <div id=\"df-6e34457f-533d-46ac-be29-90b63e5672a1\">\n",
              "    <div class=\"colab-df-container\">\n",
              "      <div>\n",
              "<style scoped>\n",
              "    .dataframe tbody tr th:only-of-type {\n",
              "        vertical-align: middle;\n",
              "    }\n",
              "\n",
              "    .dataframe tbody tr th {\n",
              "        vertical-align: top;\n",
              "    }\n",
              "\n",
              "    .dataframe thead th {\n",
              "        text-align: right;\n",
              "    }\n",
              "</style>\n",
              "<table border=\"1\" class=\"dataframe\">\n",
              "  <thead>\n",
              "    <tr style=\"text-align: right;\">\n",
              "      <th></th>\n",
              "      <th>Age</th>\n",
              "      <th>Season</th>\n",
              "      <th>Role</th>\n",
              "      <th>Migration</th>\n",
              "      <th>Category</th>\n",
              "    </tr>\n",
              "  </thead>\n",
              "  <tbody>\n",
              "    <tr>\n",
              "      <th>1000</th>\n",
              "      <td>0.657143</td>\n",
              "      <td>0.222222</td>\n",
              "      <td>0.666667</td>\n",
              "      <td>0</td>\n",
              "      <td>0</td>\n",
              "    </tr>\n",
              "    <tr>\n",
              "      <th>1001</th>\n",
              "      <td>0.514286</td>\n",
              "      <td>0.222222</td>\n",
              "      <td>1.000000</td>\n",
              "      <td>1</td>\n",
              "      <td>1</td>\n",
              "    </tr>\n",
              "    <tr>\n",
              "      <th>1002</th>\n",
              "      <td>0.685714</td>\n",
              "      <td>0.222222</td>\n",
              "      <td>0.666667</td>\n",
              "      <td>0</td>\n",
              "      <td>0</td>\n",
              "    </tr>\n",
              "    <tr>\n",
              "      <th>1003</th>\n",
              "      <td>0.628571</td>\n",
              "      <td>0.222222</td>\n",
              "      <td>0.000000</td>\n",
              "      <td>0</td>\n",
              "      <td>0</td>\n",
              "    </tr>\n",
              "    <tr>\n",
              "      <th>1004</th>\n",
              "      <td>0.771429</td>\n",
              "      <td>0.222222</td>\n",
              "      <td>0.333333</td>\n",
              "      <td>0</td>\n",
              "      <td>1</td>\n",
              "    </tr>\n",
              "    <tr>\n",
              "      <th>...</th>\n",
              "      <td>...</td>\n",
              "      <td>...</td>\n",
              "      <td>...</td>\n",
              "      <td>...</td>\n",
              "      <td>...</td>\n",
              "    </tr>\n",
              "    <tr>\n",
              "      <th>4695</th>\n",
              "      <td>0.828571</td>\n",
              "      <td>1.000000</td>\n",
              "      <td>0.666667</td>\n",
              "      <td>1</td>\n",
              "      <td>0</td>\n",
              "    </tr>\n",
              "    <tr>\n",
              "      <th>4696</th>\n",
              "      <td>0.714286</td>\n",
              "      <td>1.000000</td>\n",
              "      <td>0.666667</td>\n",
              "      <td>0</td>\n",
              "      <td>1</td>\n",
              "    </tr>\n",
              "    <tr>\n",
              "      <th>4697</th>\n",
              "      <td>0.714286</td>\n",
              "      <td>1.000000</td>\n",
              "      <td>0.333333</td>\n",
              "      <td>0</td>\n",
              "      <td>0</td>\n",
              "    </tr>\n",
              "    <tr>\n",
              "      <th>4698</th>\n",
              "      <td>0.800000</td>\n",
              "      <td>1.000000</td>\n",
              "      <td>1.000000</td>\n",
              "      <td>0</td>\n",
              "      <td>0</td>\n",
              "    </tr>\n",
              "    <tr>\n",
              "      <th>4699</th>\n",
              "      <td>0.771429</td>\n",
              "      <td>1.000000</td>\n",
              "      <td>0.333333</td>\n",
              "      <td>1</td>\n",
              "      <td>1</td>\n",
              "    </tr>\n",
              "  </tbody>\n",
              "</table>\n",
              "<p>3700 rows × 5 columns</p>\n",
              "</div>\n",
              "      <button class=\"colab-df-convert\" onclick=\"convertToInteractive('df-6e34457f-533d-46ac-be29-90b63e5672a1')\"\n",
              "              title=\"Convert this dataframe to an interactive table.\"\n",
              "              style=\"display:none;\">\n",
              "        \n",
              "  <svg xmlns=\"http://www.w3.org/2000/svg\" height=\"24px\"viewBox=\"0 0 24 24\"\n",
              "       width=\"24px\">\n",
              "    <path d=\"M0 0h24v24H0V0z\" fill=\"none\"/>\n",
              "    <path d=\"M18.56 5.44l.94 2.06.94-2.06 2.06-.94-2.06-.94-.94-2.06-.94 2.06-2.06.94zm-11 1L8.5 8.5l.94-2.06 2.06-.94-2.06-.94L8.5 2.5l-.94 2.06-2.06.94zm10 10l.94 2.06.94-2.06 2.06-.94-2.06-.94-.94-2.06-.94 2.06-2.06.94z\"/><path d=\"M17.41 7.96l-1.37-1.37c-.4-.4-.92-.59-1.43-.59-.52 0-1.04.2-1.43.59L10.3 9.45l-7.72 7.72c-.78.78-.78 2.05 0 2.83L4 21.41c.39.39.9.59 1.41.59.51 0 1.02-.2 1.41-.59l7.78-7.78 2.81-2.81c.8-.78.8-2.07 0-2.86zM5.41 20L4 18.59l7.72-7.72 1.47 1.35L5.41 20z\"/>\n",
              "  </svg>\n",
              "      </button>\n",
              "      \n",
              "  <style>\n",
              "    .colab-df-container {\n",
              "      display:flex;\n",
              "      flex-wrap:wrap;\n",
              "      gap: 12px;\n",
              "    }\n",
              "\n",
              "    .colab-df-convert {\n",
              "      background-color: #E8F0FE;\n",
              "      border: none;\n",
              "      border-radius: 50%;\n",
              "      cursor: pointer;\n",
              "      display: none;\n",
              "      fill: #1967D2;\n",
              "      height: 32px;\n",
              "      padding: 0 0 0 0;\n",
              "      width: 32px;\n",
              "    }\n",
              "\n",
              "    .colab-df-convert:hover {\n",
              "      background-color: #E2EBFA;\n",
              "      box-shadow: 0px 1px 2px rgba(60, 64, 67, 0.3), 0px 1px 3px 1px rgba(60, 64, 67, 0.15);\n",
              "      fill: #174EA6;\n",
              "    }\n",
              "\n",
              "    [theme=dark] .colab-df-convert {\n",
              "      background-color: #3B4455;\n",
              "      fill: #D2E3FC;\n",
              "    }\n",
              "\n",
              "    [theme=dark] .colab-df-convert:hover {\n",
              "      background-color: #434B5C;\n",
              "      box-shadow: 0px 1px 3px 1px rgba(0, 0, 0, 0.15);\n",
              "      filter: drop-shadow(0px 1px 2px rgba(0, 0, 0, 0.3));\n",
              "      fill: #FFFFFF;\n",
              "    }\n",
              "  </style>\n",
              "\n",
              "      <script>\n",
              "        const buttonEl =\n",
              "          document.querySelector('#df-6e34457f-533d-46ac-be29-90b63e5672a1 button.colab-df-convert');\n",
              "        buttonEl.style.display =\n",
              "          google.colab.kernel.accessAllowed ? 'block' : 'none';\n",
              "\n",
              "        async function convertToInteractive(key) {\n",
              "          const element = document.querySelector('#df-6e34457f-533d-46ac-be29-90b63e5672a1');\n",
              "          const dataTable =\n",
              "            await google.colab.kernel.invokeFunction('convertToInteractive',\n",
              "                                                     [key], {});\n",
              "          if (!dataTable) return;\n",
              "\n",
              "          const docLinkHtml = 'Like what you see? Visit the ' +\n",
              "            '<a target=\"_blank\" href=https://colab.research.google.com/notebooks/data_table.ipynb>data table notebook</a>'\n",
              "            + ' to learn more about interactive tables.';\n",
              "          element.innerHTML = '';\n",
              "          dataTable['output_type'] = 'display_data';\n",
              "          await google.colab.output.renderOutput(dataTable, element);\n",
              "          const docLink = document.createElement('div');\n",
              "          docLink.innerHTML = docLinkHtml;\n",
              "          element.appendChild(docLink);\n",
              "        }\n",
              "      </script>\n",
              "    </div>\n",
              "  </div>\n",
              "  "
            ]
          },
          "metadata": {},
          "execution_count": 33
        }
      ],
      "source": [
        "data = dataset2[1000:]\n",
        "data"
      ]
    },
    {
      "cell_type": "markdown",
      "metadata": {
        "id": "dXSAKbxTFntz"
      },
      "source": [
        "# Splitting & Model Selection"
      ]
    },
    {
      "cell_type": "code",
      "execution_count": 34,
      "metadata": {
        "id": "55UpeDd5Fntz"
      },
      "outputs": [],
      "source": [
        "array = data.values\n",
        "x = array[:, 0:4]\n",
        "y = array[:, 4]\n",
        "num_data_points = len(y)\n",
        "\n",
        "x_train = x[:int(.65 * num_data_points)]\n",
        "y_train = y[:int(.65 * num_data_points)]\n",
        "x_test = x[int(.65 * num_data_points):int(.85 * num_data_points)]\n",
        "y_test = y[int(.65 * num_data_points):int(.85 * num_data_points)]\n",
        "cross_val_x = x[int(.85 * num_data_points):]\n",
        "cross_val_y = y[int(.85 * num_data_points):]"
      ]
    },
    {
      "cell_type": "markdown",
      "metadata": {
        "id": "_m498xziFntz"
      },
      "source": [
        "# Deploying Model & Result"
      ]
    },
    {
      "cell_type": "code",
      "execution_count": 35,
      "metadata": {
        "colab": {
          "base_uri": "https://localhost:8080/"
        },
        "id": "PxG5K7eaFntz",
        "outputId": "ce3521f5-9a72-4059-c51f-1961c2fe11c4"
      },
      "outputs": [
        {
          "output_type": "stream",
          "name": "stdout",
          "text": [
            "Logistic Regression accuracy (Test): 0.740541\n",
            "Logistic Regression accuracy (Validation): 0.740541\n"
          ]
        }
      ],
      "source": [
        "model = LogisticRegression()\n",
        "model.fit(x_train, y_train)\n",
        "y_pred = model.predict(x_test)\n",
        "\n",
        "print('Logistic Regression accuracy (Test): %f' % model.score(x_test, y_test))\n",
        "print('Logistic Regression accuracy (Validation): %f' % model.score(cross_val_x, cross_val_y))"
      ]
    }
  ],
  "metadata": {
    "kernelspec": {
      "display_name": "Python 3",
      "language": "python",
      "name": "python3"
    },
    "language_info": {
      "codemirror_mode": {
        "name": "ipython",
        "version": 3
      },
      "file_extension": ".py",
      "mimetype": "text/x-python",
      "name": "python",
      "nbconvert_exporter": "python",
      "pygments_lexer": "ipython3",
      "version": "3.5.6"
    },
    "colab": {
      "provenance": [],
      "include_colab_link": true
    }
  },
  "nbformat": 4,
  "nbformat_minor": 0
}